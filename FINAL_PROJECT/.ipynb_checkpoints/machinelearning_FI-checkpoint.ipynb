{
 "cells": [
  {
   "cell_type": "code",
   "execution_count": 2,
   "metadata": {},
   "outputs": [
    {
     "name": "stderr",
     "output_type": "stream",
     "text": [
      "C:\\Users\\jones\\Anaconda3\\envs\\DereksEnvironment\\lib\\site-packages\\sklearn\\cross_validation.py:41: DeprecationWarning: This module was deprecated in version 0.18 in favor of the model_selection module into which all the refactored classes and functions are moved. Also note that the interface of the new CV iterators are different from that of this module. This module will be removed in 0.20.\n",
      "  \"This module will be removed in 0.20.\", DeprecationWarning)\n"
     ]
    }
   ],
   "source": [
    "import pandas as pd\n",
    "from sklearn import linear_model\n",
    "import statsmodels.api as sm\n",
    "import numpy as np\n",
    "import seaborn as sns\n",
    "from sklearn.cross_validation import train_test_split\n",
    "import matplotlib.pyplot as plt\n",
    "%matplotlib inline"
   ]
  },
  {
   "cell_type": "code",
   "execution_count": 3,
   "metadata": {},
   "outputs": [],
   "source": [
    "from IPython.core.interactiveshell import InteractiveShell\n",
    "InteractiveShell.ast_node_interactivity = \"all\""
   ]
  },
  {
   "cell_type": "code",
   "execution_count": null,
   "metadata": {},
   "outputs": [],
   "source": [
    "#dataTrain = pd.read_csv(\"ZIP_machinelearning_retail_train.csv\")\n",
    "#dataTest = pd.read_csv(\"ZIP_machinelearning_retail_test.csv\")\n",
    "#dataTrain.head()"
   ]
  },
  {
   "cell_type": "code",
   "execution_count": 14,
   "metadata": {},
   "outputs": [
    {
     "data": {
      "text/html": [
       "<div>\n",
       "<style scoped>\n",
       "    .dataframe tbody tr th:only-of-type {\n",
       "        vertical-align: middle;\n",
       "    }\n",
       "\n",
       "    .dataframe tbody tr th {\n",
       "        vertical-align: top;\n",
       "    }\n",
       "\n",
       "    .dataframe thead th {\n",
       "        text-align: right;\n",
       "    }\n",
       "</style>\n",
       "<table border=\"1\" class=\"dataframe\">\n",
       "  <thead>\n",
       "    <tr style=\"text-align: right;\">\n",
       "      <th></th>\n",
       "      <th>Zhvi</th>\n",
       "      <th>Parking Tickets</th>\n",
       "      <th>Per capita income</th>\n",
       "      <th>Financial Institutions</th>\n",
       "    </tr>\n",
       "  </thead>\n",
       "  <tbody>\n",
       "    <tr>\n",
       "      <th>0</th>\n",
       "      <td>411900</td>\n",
       "      <td>141</td>\n",
       "      <td>100377</td>\n",
       "      <td>146</td>\n",
       "    </tr>\n",
       "    <tr>\n",
       "      <th>1</th>\n",
       "      <td>351700</td>\n",
       "      <td>752</td>\n",
       "      <td>69889</td>\n",
       "      <td>56</td>\n",
       "    </tr>\n",
       "    <tr>\n",
       "      <th>2</th>\n",
       "      <td>433200</td>\n",
       "      <td>1986</td>\n",
       "      <td>68324</td>\n",
       "      <td>18</td>\n",
       "    </tr>\n",
       "    <tr>\n",
       "      <th>3</th>\n",
       "      <td>238900</td>\n",
       "      <td>290</td>\n",
       "      <td>59849</td>\n",
       "      <td>4</td>\n",
       "    </tr>\n",
       "    <tr>\n",
       "      <th>4</th>\n",
       "      <td>388600</td>\n",
       "      <td>457</td>\n",
       "      <td>58232</td>\n",
       "      <td>10</td>\n",
       "    </tr>\n",
       "  </tbody>\n",
       "</table>\n",
       "</div>"
      ],
      "text/plain": [
       "     Zhvi  Parking Tickets  Per capita income  Financial Institutions\n",
       "0  411900              141             100377                     146\n",
       "1  351700              752              69889                      56\n",
       "2  433200             1986              68324                      18\n",
       "3  238900              290              59849                       4\n",
       "4  388600              457              58232                      10"
      ]
     },
     "execution_count": 14,
     "metadata": {},
     "output_type": "execute_result"
    }
   ],
   "source": [
    "df = pd.read_csv(\"ZIP_machinelearning_FI.csv\")\n",
    "df.head()"
   ]
  },
  {
   "cell_type": "code",
   "execution_count": 15,
   "metadata": {},
   "outputs": [],
   "source": [
    "target = df['Financial Institutions']"
   ]
  },
  {
   "cell_type": "code",
   "execution_count": 6,
   "metadata": {},
   "outputs": [
    {
     "data": {
      "text/html": [
       "<div>\n",
       "<style scoped>\n",
       "    .dataframe tbody tr th:only-of-type {\n",
       "        vertical-align: middle;\n",
       "    }\n",
       "\n",
       "    .dataframe tbody tr th {\n",
       "        vertical-align: top;\n",
       "    }\n",
       "\n",
       "    .dataframe thead th {\n",
       "        text-align: right;\n",
       "    }\n",
       "</style>\n",
       "<table border=\"1\" class=\"dataframe\">\n",
       "  <thead>\n",
       "    <tr style=\"text-align: right;\">\n",
       "      <th></th>\n",
       "      <th>Zhvi</th>\n",
       "      <th>Parking Tickets</th>\n",
       "      <th>Per capita income</th>\n",
       "    </tr>\n",
       "  </thead>\n",
       "  <tbody>\n",
       "    <tr>\n",
       "      <th>0</th>\n",
       "      <td>411900</td>\n",
       "      <td>141</td>\n",
       "      <td>100,377</td>\n",
       "    </tr>\n",
       "    <tr>\n",
       "      <th>1</th>\n",
       "      <td>351700</td>\n",
       "      <td>752</td>\n",
       "      <td>69,889</td>\n",
       "    </tr>\n",
       "    <tr>\n",
       "      <th>2</th>\n",
       "      <td>433200</td>\n",
       "      <td>1986</td>\n",
       "      <td>68,324</td>\n",
       "    </tr>\n",
       "    <tr>\n",
       "      <th>3</th>\n",
       "      <td>238900</td>\n",
       "      <td>290</td>\n",
       "      <td>59,849</td>\n",
       "    </tr>\n",
       "    <tr>\n",
       "      <th>4</th>\n",
       "      <td>388600</td>\n",
       "      <td>457</td>\n",
       "      <td>58,232</td>\n",
       "    </tr>\n",
       "  </tbody>\n",
       "</table>\n",
       "</div>"
      ],
      "text/plain": [
       "     Zhvi  Parking Tickets Per capita income\n",
       "0  411900              141           100,377\n",
       "1  351700              752            69,889\n",
       "2  433200             1986            68,324\n",
       "3  238900              290            59,849\n",
       "4  388600              457            58,232"
      ]
     },
     "execution_count": 6,
     "metadata": {},
     "output_type": "execute_result"
    }
   ],
   "source": []
  },
  {
   "cell_type": "code",
   "execution_count": 16,
   "metadata": {},
   "outputs": [
    {
     "data": {
      "text/html": [
       "<div>\n",
       "<style scoped>\n",
       "    .dataframe tbody tr th:only-of-type {\n",
       "        vertical-align: middle;\n",
       "    }\n",
       "\n",
       "    .dataframe tbody tr th {\n",
       "        vertical-align: top;\n",
       "    }\n",
       "\n",
       "    .dataframe thead th {\n",
       "        text-align: right;\n",
       "    }\n",
       "</style>\n",
       "<table border=\"1\" class=\"dataframe\">\n",
       "  <thead>\n",
       "    <tr style=\"text-align: right;\">\n",
       "      <th></th>\n",
       "      <th>Zhvi</th>\n",
       "      <th>Parking Tickets</th>\n",
       "      <th>Per capita income</th>\n",
       "      <th>Financial Institutions</th>\n",
       "    </tr>\n",
       "  </thead>\n",
       "  <tbody>\n",
       "    <tr>\n",
       "      <th>Zhvi</th>\n",
       "      <td>1.000000</td>\n",
       "      <td>-0.247546</td>\n",
       "      <td>0.530287</td>\n",
       "      <td>0.490684</td>\n",
       "    </tr>\n",
       "    <tr>\n",
       "      <th>Parking Tickets</th>\n",
       "      <td>-0.247546</td>\n",
       "      <td>1.000000</td>\n",
       "      <td>-0.566882</td>\n",
       "      <td>-0.171289</td>\n",
       "    </tr>\n",
       "    <tr>\n",
       "      <th>Per capita income</th>\n",
       "      <td>0.530287</td>\n",
       "      <td>-0.566882</td>\n",
       "      <td>1.000000</td>\n",
       "      <td>0.601131</td>\n",
       "    </tr>\n",
       "    <tr>\n",
       "      <th>Financial Institutions</th>\n",
       "      <td>0.490684</td>\n",
       "      <td>-0.171289</td>\n",
       "      <td>0.601131</td>\n",
       "      <td>1.000000</td>\n",
       "    </tr>\n",
       "  </tbody>\n",
       "</table>\n",
       "</div>"
      ],
      "text/plain": [
       "                            Zhvi  Parking Tickets  Per capita income  \\\n",
       "Zhvi                    1.000000        -0.247546           0.530287   \n",
       "Parking Tickets        -0.247546         1.000000          -0.566882   \n",
       "Per capita income       0.530287        -0.566882           1.000000   \n",
       "Financial Institutions  0.490684        -0.171289           0.601131   \n",
       "\n",
       "                        Financial Institutions  \n",
       "Zhvi                                  0.490684  \n",
       "Parking Tickets                      -0.171289  \n",
       "Per capita income                     0.601131  \n",
       "Financial Institutions                1.000000  "
      ]
     },
     "execution_count": 16,
     "metadata": {},
     "output_type": "execute_result"
    }
   ],
   "source": [
    "x = df.corr()\n",
    "x"
   ]
  },
  {
   "cell_type": "code",
   "execution_count": 17,
   "metadata": {},
   "outputs": [
    {
     "data": {
      "text/plain": [
       "(<Figure size 1440x1440 with 1 Axes>,\n",
       " <matplotlib.axes._subplots.AxesSubplot at 0x1d79835b4a8>)"
      ]
     },
     "execution_count": 17,
     "metadata": {},
     "output_type": "execute_result"
    },
    {
     "data": {
      "text/plain": [
       "<matplotlib.axes._subplots.AxesSubplot at 0x1d79835b4a8>"
      ]
     },
     "execution_count": 17,
     "metadata": {},
     "output_type": "execute_result"
    },
    {
     "data": {
      "image/png": "[encoded data removed]",
      "text/plain": [
       "<Figure size 1440x1440 with 2 Axes>"
      ]
     },
     "metadata": {},
     "output_type": "display_data"
    }
   ],
   "source": [
    "plt.subplots(figsize=(20,20))\n",
    "sns.heatmap(x, cmap = 'RdYlGn', annot = True)\n",
    "plt.show()"
   ]
  },
  {
   "cell_type": "code",
   "execution_count": 18,
   "metadata": {},
   "outputs": [
    {
     "data": {
      "text/html": [
       "<div>\n",
       "<style scoped>\n",
       "    .dataframe tbody tr th:only-of-type {\n",
       "        vertical-align: middle;\n",
       "    }\n",
       "\n",
       "    .dataframe tbody tr th {\n",
       "        vertical-align: top;\n",
       "    }\n",
       "\n",
       "    .dataframe thead th {\n",
       "        text-align: right;\n",
       "    }\n",
       "</style>\n",
       "<table border=\"1\" class=\"dataframe\">\n",
       "  <thead>\n",
       "    <tr style=\"text-align: right;\">\n",
       "      <th></th>\n",
       "      <th>Zhvi</th>\n",
       "      <th>Parking Tickets</th>\n",
       "      <th>Per capita income</th>\n",
       "    </tr>\n",
       "  </thead>\n",
       "  <tbody>\n",
       "    <tr>\n",
       "      <th>0</th>\n",
       "      <td>411900</td>\n",
       "      <td>141</td>\n",
       "      <td>100377</td>\n",
       "    </tr>\n",
       "    <tr>\n",
       "      <th>1</th>\n",
       "      <td>351700</td>\n",
       "      <td>752</td>\n",
       "      <td>69889</td>\n",
       "    </tr>\n",
       "    <tr>\n",
       "      <th>2</th>\n",
       "      <td>433200</td>\n",
       "      <td>1986</td>\n",
       "      <td>68324</td>\n",
       "    </tr>\n",
       "    <tr>\n",
       "      <th>3</th>\n",
       "      <td>238900</td>\n",
       "      <td>290</td>\n",
       "      <td>59849</td>\n",
       "    </tr>\n",
       "    <tr>\n",
       "      <th>4</th>\n",
       "      <td>388600</td>\n",
       "      <td>457</td>\n",
       "      <td>58232</td>\n",
       "    </tr>\n",
       "  </tbody>\n",
       "</table>\n",
       "</div>"
      ],
      "text/plain": [
       "     Zhvi  Parking Tickets  Per capita income\n",
       "0  411900              141             100377\n",
       "1  351700              752              69889\n",
       "2  433200             1986              68324\n",
       "3  238900              290              59849\n",
       "4  388600              457              58232"
      ]
     },
     "execution_count": 18,
     "metadata": {},
     "output_type": "execute_result"
    },
    {
     "data": {
      "text/plain": [
       "0    146\n",
       "1     56\n",
       "2     18\n",
       "3      4\n",
       "4     10\n",
       "Name: Financial Institutions, dtype: int64"
      ]
     },
     "execution_count": 18,
     "metadata": {},
     "output_type": "execute_result"
    }
   ],
   "source": [
    "x = df.drop('Financial Institutions', axis = 1)\n",
    "y = df['Financial Institutions']\n",
    "x.head()\n",
    "y.head()"
   ]
  },
  {
   "cell_type": "code",
   "execution_count": 19,
   "metadata": {},
   "outputs": [
    {
     "data": {
      "text/plain": [
       "(32, 3)"
      ]
     },
     "execution_count": 19,
     "metadata": {},
     "output_type": "execute_result"
    },
    {
     "data": {
      "text/plain": [
       "(11, 3)"
      ]
     },
     "execution_count": 19,
     "metadata": {},
     "output_type": "execute_result"
    },
    {
     "data": {
      "text/plain": [
       "(32,)"
      ]
     },
     "execution_count": 19,
     "metadata": {},
     "output_type": "execute_result"
    },
    {
     "data": {
      "text/plain": [
       "(11,)"
      ]
     },
     "execution_count": 19,
     "metadata": {},
     "output_type": "execute_result"
    }
   ],
   "source": [
    "train_x, test_x, train_y, test_y = train_test_split(x,y,test_size=0.25, random_state=1)\n",
    "train_x.shape\n",
    "test_x.shape\n",
    "train_y.shape\n",
    "test_y.shape\n"
   ]
  },
  {
   "cell_type": "code",
   "execution_count": 20,
   "metadata": {},
   "outputs": [
    {
     "data": {
      "text/plain": [
       "LinearRegression(copy_X=True, fit_intercept=True, n_jobs=1, normalize=False)"
      ]
     },
     "execution_count": 20,
     "metadata": {},
     "output_type": "execute_result"
    }
   ],
   "source": [
    "from sklearn.linear_model import LinearRegression\n",
    "lm = LinearRegression()\n",
    "lm"
   ]
  },
  {
   "cell_type": "code",
   "execution_count": 21,
   "metadata": {},
   "outputs": [
    {
     "data": {
      "text/plain": [
       "LinearRegression(copy_X=True, fit_intercept=True, n_jobs=1, normalize=False)"
      ]
     },
     "execution_count": 21,
     "metadata": {},
     "output_type": "execute_result"
    }
   ],
   "source": [
    "lm.fit(train_x, train_y)"
   ]
  },
  {
   "cell_type": "code",
   "execution_count": 22,
   "metadata": {},
   "outputs": [],
   "source": [
    "predict_test = lm.predict(test_x)"
   ]
  },
  {
   "cell_type": "code",
   "execution_count": 23,
   "metadata": {},
   "outputs": [
    {
     "name": "stdout",
     "output_type": "stream",
     "text": [
      "[4.27395993e-05 5.45993970e-03 1.28013656e-03]\n"
     ]
    },
    {
     "data": {
      "text/html": [
       "<div>\n",
       "<style scoped>\n",
       "    .dataframe tbody tr th:only-of-type {\n",
       "        vertical-align: middle;\n",
       "    }\n",
       "\n",
       "    .dataframe tbody tr th {\n",
       "        vertical-align: top;\n",
       "    }\n",
       "\n",
       "    .dataframe thead th {\n",
       "        text-align: right;\n",
       "    }\n",
       "</style>\n",
       "<table border=\"1\" class=\"dataframe\">\n",
       "  <thead>\n",
       "    <tr style=\"text-align: right;\">\n",
       "      <th></th>\n",
       "      <th>features</th>\n",
       "      <th>coeff</th>\n",
       "    </tr>\n",
       "  </thead>\n",
       "  <tbody>\n",
       "    <tr>\n",
       "      <th>0</th>\n",
       "      <td>Zhvi</td>\n",
       "      <td>0.000043</td>\n",
       "    </tr>\n",
       "    <tr>\n",
       "      <th>2</th>\n",
       "      <td>Per capita income</td>\n",
       "      <td>0.001280</td>\n",
       "    </tr>\n",
       "    <tr>\n",
       "      <th>1</th>\n",
       "      <td>Parking Tickets</td>\n",
       "      <td>0.005460</td>\n",
       "    </tr>\n",
       "  </tbody>\n",
       "</table>\n",
       "</div>"
      ],
      "text/plain": [
       "            features     coeff\n",
       "0               Zhvi  0.000043\n",
       "2  Per capita income  0.001280\n",
       "1    Parking Tickets  0.005460"
      ]
     },
     "execution_count": 23,
     "metadata": {},
     "output_type": "execute_result"
    }
   ],
   "source": [
    "print(lm.coef_)\n",
    "df_m = pd.DataFrame({'features':x.columns,'coeff':lm.coef_})\n",
    "df_m = df_m.sort_values(by=['coeff'])\n",
    "df_m"
   ]
  },
  {
   "cell_type": "code",
   "execution_count": 24,
   "metadata": {},
   "outputs": [
    {
     "data": {
      "text/plain": [
       "<matplotlib.axes._subplots.AxesSubplot at 0x1d797bace10>"
      ]
     },
     "execution_count": 24,
     "metadata": {},
     "output_type": "execute_result"
    },
    {
     "data": {
      "image/png": "[encoded data removed]",
      "text/plain": [
       "<Figure size 1080x720 with 1 Axes>"
      ]
     },
     "metadata": {},
     "output_type": "display_data"
    }
   ],
   "source": [
    "#feature importance\n",
    "df_m.plot(x= 'features', y='coeff', kind = 'bar', figsize =(15,10))\n",
    "plt.show()"
   ]
  },
  {
   "cell_type": "code",
   "execution_count": 25,
   "metadata": {},
   "outputs": [
    {
     "data": {
      "text/plain": [
       "'Rsquare value for test data ='"
      ]
     },
     "execution_count": 25,
     "metadata": {},
     "output_type": "execute_result"
    },
    {
     "data": {
      "text/plain": [
       "-101.0"
      ]
     },
     "execution_count": 25,
     "metadata": {},
     "output_type": "execute_result"
    },
    {
     "data": {
      "text/plain": [
       "'Rsquare value for train data ='"
      ]
     },
     "execution_count": 25,
     "metadata": {},
     "output_type": "execute_result"
    },
    {
     "data": {
      "text/plain": [
       "57.0"
      ]
     },
     "execution_count": 25,
     "metadata": {},
     "output_type": "execute_result"
    }
   ],
   "source": [
    "(\"Rsquare value for test data =\")\n",
    "np.round(lm.score(test_x, test_y) * 100,0)\n",
    "(\"Rsquare value for train data =\")\n",
    "np.round(lm.score(train_x, train_y) * 100,0)"
   ]
  },
  {
   "cell_type": "code",
   "execution_count": 26,
   "metadata": {},
   "outputs": [
    {
     "name": "stdout",
     "output_type": "stream",
     "text": [
      "Mean Squares Error for test data = \n"
     ]
    },
    {
     "data": {
      "text/plain": [
       "422.0"
      ]
     },
     "execution_count": 26,
     "metadata": {},
     "output_type": "execute_result"
    }
   ],
   "source": [
    "import numpy as np\n",
    "from sklearn import metrics\n",
    "print (\"Mean Squares Error for test data = \")\n",
    "np.round(metrics.mean_squared_error(test_y, predict_test),0)"
   ]
  },
  {
   "cell_type": "code",
   "execution_count": 28,
   "metadata": {},
   "outputs": [
    {
     "name": "stdout",
     "output_type": "stream",
     "text": [
      "Mean Absolute Error for test data = \n"
     ]
    },
    {
     "data": {
      "text/plain": [
       "15.0"
      ]
     },
     "execution_count": 28,
     "metadata": {},
     "output_type": "execute_result"
    }
   ],
   "source": [
    "from sklearn.metrics import mean_absolute_error\n",
    "print (\"Mean Absolute Error for test data = \")\n",
    "np.round(mean_absolute_error(test_y, predict_test),0)"
   ]
  },
  {
   "cell_type": "code",
   "execution_count": 30,
   "metadata": {},
   "outputs": [
    {
     "data": {
      "text/html": [
       "<div>\n",
       "<style scoped>\n",
       "    .dataframe tbody tr th:only-of-type {\n",
       "        vertical-align: middle;\n",
       "    }\n",
       "\n",
       "    .dataframe tbody tr th {\n",
       "        vertical-align: top;\n",
       "    }\n",
       "\n",
       "    .dataframe thead th {\n",
       "        text-align: right;\n",
       "    }\n",
       "</style>\n",
       "<table border=\"1\" class=\"dataframe\">\n",
       "  <thead>\n",
       "    <tr style=\"text-align: right;\">\n",
       "      <th></th>\n",
       "      <th>Zhvi</th>\n",
       "      <th>Parking Tickets</th>\n",
       "      <th>Per capita income</th>\n",
       "      <th>Financial Institutions</th>\n",
       "      <th>Predicted</th>\n",
       "      <th>Prediction_Error</th>\n",
       "    </tr>\n",
       "  </thead>\n",
       "  <tbody>\n",
       "    <tr>\n",
       "      <th>3</th>\n",
       "      <td>238900</td>\n",
       "      <td>290</td>\n",
       "      <td>59849</td>\n",
       "      <td>4</td>\n",
       "      <td>30.8</td>\n",
       "      <td>-26.8</td>\n",
       "    </tr>\n",
       "    <tr>\n",
       "      <th>2</th>\n",
       "      <td>433200</td>\n",
       "      <td>1986</td>\n",
       "      <td>68324</td>\n",
       "      <td>18</td>\n",
       "      <td>59.2</td>\n",
       "      <td>-41.2</td>\n",
       "    </tr>\n",
       "    <tr>\n",
       "      <th>24</th>\n",
       "      <td>233700</td>\n",
       "      <td>4996</td>\n",
       "      <td>40165</td>\n",
       "      <td>25</td>\n",
       "      <td>31.1</td>\n",
       "      <td>-6.1</td>\n",
       "    </tr>\n",
       "    <tr>\n",
       "      <th>40</th>\n",
       "      <td>133200</td>\n",
       "      <td>3133</td>\n",
       "      <td>23228</td>\n",
       "      <td>8</td>\n",
       "      <td>-5.1</td>\n",
       "      <td>13.1</td>\n",
       "    </tr>\n",
       "    <tr>\n",
       "      <th>17</th>\n",
       "      <td>277000</td>\n",
       "      <td>2024</td>\n",
       "      <td>45064</td>\n",
       "      <td>15</td>\n",
       "      <td>23.0</td>\n",
       "      <td>-8.0</td>\n",
       "    </tr>\n",
       "    <tr>\n",
       "      <th>30</th>\n",
       "      <td>203300</td>\n",
       "      <td>1468</td>\n",
       "      <td>34293</td>\n",
       "      <td>8</td>\n",
       "      <td>3.0</td>\n",
       "      <td>5.0</td>\n",
       "    </tr>\n",
       "    <tr>\n",
       "      <th>22</th>\n",
       "      <td>112000</td>\n",
       "      <td>251</td>\n",
       "      <td>40792</td>\n",
       "      <td>0</td>\n",
       "      <td>0.8</td>\n",
       "      <td>-0.8</td>\n",
       "    </tr>\n",
       "    <tr>\n",
       "      <th>36</th>\n",
       "      <td>278100</td>\n",
       "      <td>2188</td>\n",
       "      <td>30625</td>\n",
       "      <td>29</td>\n",
       "      <td>5.4</td>\n",
       "      <td>23.6</td>\n",
       "    </tr>\n",
       "    <tr>\n",
       "      <th>32</th>\n",
       "      <td>162100</td>\n",
       "      <td>3991</td>\n",
       "      <td>32622</td>\n",
       "      <td>11</td>\n",
       "      <td>12.9</td>\n",
       "      <td>-1.9</td>\n",
       "    </tr>\n",
       "    <tr>\n",
       "      <th>19</th>\n",
       "      <td>214500</td>\n",
       "      <td>1951</td>\n",
       "      <td>41438</td>\n",
       "      <td>8</td>\n",
       "      <td>15.3</td>\n",
       "      <td>-7.3</td>\n",
       "    </tr>\n",
       "    <tr>\n",
       "      <th>21</th>\n",
       "      <td>356600</td>\n",
       "      <td>1390</td>\n",
       "      <td>40972</td>\n",
       "      <td>54</td>\n",
       "      <td>17.7</td>\n",
       "      <td>36.3</td>\n",
       "    </tr>\n",
       "  </tbody>\n",
       "</table>\n",
       "</div>"
      ],
      "text/plain": [
       "      Zhvi  Parking Tickets  Per capita income  Financial Institutions  \\\n",
       "3   238900              290              59849                       4   \n",
       "2   433200             1986              68324                      18   \n",
       "24  233700             4996              40165                      25   \n",
       "40  133200             3133              23228                       8   \n",
       "17  277000             2024              45064                      15   \n",
       "30  203300             1468              34293                       8   \n",
       "22  112000              251              40792                       0   \n",
       "36  278100             2188              30625                      29   \n",
       "32  162100             3991              32622                      11   \n",
       "19  214500             1951              41438                       8   \n",
       "21  356600             1390              40972                      54   \n",
       "\n",
       "    Predicted  Prediction_Error  \n",
       "3        30.8             -26.8  \n",
       "2        59.2             -41.2  \n",
       "24       31.1              -6.1  \n",
       "40       -5.1              13.1  \n",
       "17       23.0              -8.0  \n",
       "30        3.0               5.0  \n",
       "22        0.8              -0.8  \n",
       "36        5.4              23.6  \n",
       "32       12.9              -1.9  \n",
       "19       15.3              -7.3  \n",
       "21       17.7              36.3  "
      ]
     },
     "execution_count": 30,
     "metadata": {},
     "output_type": "execute_result"
    }
   ],
   "source": [
    "#append predicted retail store openings into original data\n",
    "fdf = pd.concat([test_x, test_y],1)\n",
    "fdf['Predicted'] = np.round(predict_test,1)\n",
    "fdf['Prediction_Error'] = fdf['Financial Institutions'] - fdf['Predicted']\n",
    "fdf"
   ]
  },
  {
   "cell_type": "code",
   "execution_count": null,
   "metadata": {},
   "outputs": [],
   "source": []
  }
 ],
 "metadata": {
  "kernelspec": {
   "display_name": "Python 3",
   "language": "python",
   "name": "python3"
  },
  "language_info": {
   "codemirror_mode": {
    "name": "ipython",
    "version": 3
   },
   "file_extension": ".py",
   "mimetype": "text/x-python",
   "name": "python",
   "nbconvert_exporter": "python",
   "pygments_lexer": "ipython3",
   "version": "3.6.5"
  }
 },
 "nbformat": 4,
 "nbformat_minor": 2
}
