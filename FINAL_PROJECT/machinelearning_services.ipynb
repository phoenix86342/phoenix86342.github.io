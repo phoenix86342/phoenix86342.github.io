{
 "cells": [
  {
   "cell_type": "code",
   "execution_count": 1,
   "metadata": {},
   "outputs": [
    {
     "name": "stderr",
     "output_type": "stream",
     "text": [
      "C:\\Users\\jones\\Anaconda3\\envs\\DereksEnvironment\\lib\\site-packages\\sklearn\\cross_validation.py:41: DeprecationWarning: This module was deprecated in version 0.18 in favor of the model_selection module into which all the refactored classes and functions are moved. Also note that the interface of the new CV iterators are different from that of this module. This module will be removed in 0.20.\n",
      "  \"This module will be removed in 0.20.\", DeprecationWarning)\n"
     ]
    }
   ],
   "source": [
    "import pandas as pd\n",
    "from sklearn import linear_model\n",
    "import statsmodels.api as sm\n",
    "import numpy as np\n",
    "import seaborn as sns\n",
    "from sklearn.cross_validation import train_test_split\n",
    "import matplotlib.pyplot as plt\n",
    "%matplotlib inline"
   ]
  },
  {
   "cell_type": "code",
   "execution_count": 2,
   "metadata": {},
   "outputs": [],
   "source": [
    "from IPython.core.interactiveshell import InteractiveShell\n",
    "InteractiveShell.ast_node_interactivity = \"all\""
   ]
  },
  {
   "cell_type": "code",
   "execution_count": 3,
   "metadata": {},
   "outputs": [],
   "source": [
    "#dataTrain = pd.read_csv(\"ZIP_machinelearning_retail_train.csv\")\n",
    "#dataTest = pd.read_csv(\"ZIP_machinelearning_retail_test.csv\")\n",
    "#dataTrain.head()"
   ]
  },
  {
   "cell_type": "code",
   "execution_count": 4,
   "metadata": {},
   "outputs": [
    {
     "data": {
      "text/html": [
       "<div>\n",
       "<style scoped>\n",
       "    .dataframe tbody tr th:only-of-type {\n",
       "        vertical-align: middle;\n",
       "    }\n",
       "\n",
       "    .dataframe tbody tr th {\n",
       "        vertical-align: top;\n",
       "    }\n",
       "\n",
       "    .dataframe thead th {\n",
       "        text-align: right;\n",
       "    }\n",
       "</style>\n",
       "<table border=\"1\" class=\"dataframe\">\n",
       "  <thead>\n",
       "    <tr style=\"text-align: right;\">\n",
       "      <th></th>\n",
       "      <th>Zhvi</th>\n",
       "      <th>Parking Tickets</th>\n",
       "      <th>Per capita income</th>\n",
       "      <th>Services</th>\n",
       "    </tr>\n",
       "  </thead>\n",
       "  <tbody>\n",
       "    <tr>\n",
       "      <th>0</th>\n",
       "      <td>411900</td>\n",
       "      <td>141</td>\n",
       "      <td>100377</td>\n",
       "      <td>652</td>\n",
       "    </tr>\n",
       "    <tr>\n",
       "      <th>1</th>\n",
       "      <td>351700</td>\n",
       "      <td>752</td>\n",
       "      <td>69889</td>\n",
       "      <td>686</td>\n",
       "    </tr>\n",
       "    <tr>\n",
       "      <th>2</th>\n",
       "      <td>433200</td>\n",
       "      <td>1986</td>\n",
       "      <td>68324</td>\n",
       "      <td>639</td>\n",
       "    </tr>\n",
       "    <tr>\n",
       "      <th>3</th>\n",
       "      <td>238900</td>\n",
       "      <td>290</td>\n",
       "      <td>59849</td>\n",
       "      <td>135</td>\n",
       "    </tr>\n",
       "    <tr>\n",
       "      <th>4</th>\n",
       "      <td>388600</td>\n",
       "      <td>457</td>\n",
       "      <td>58232</td>\n",
       "      <td>248</td>\n",
       "    </tr>\n",
       "  </tbody>\n",
       "</table>\n",
       "</div>"
      ],
      "text/plain": [
       "     Zhvi  Parking Tickets  Per capita income  Services\n",
       "0  411900              141             100377       652\n",
       "1  351700              752              69889       686\n",
       "2  433200             1986              68324       639\n",
       "3  238900              290              59849       135\n",
       "4  388600              457              58232       248"
      ]
     },
     "execution_count": 4,
     "metadata": {},
     "output_type": "execute_result"
    }
   ],
   "source": [
    "df = pd.read_csv(\"ZIP_machinelearning_services.csv\")\n",
    "df.head()"
   ]
  },
  {
   "cell_type": "code",
   "execution_count": 5,
   "metadata": {},
   "outputs": [],
   "source": [
    "target = df['Services']"
   ]
  },
  {
   "cell_type": "code",
   "execution_count": 6,
   "metadata": {},
   "outputs": [
    {
     "data": {
      "text/html": [
       "<div>\n",
       "<style scoped>\n",
       "    .dataframe tbody tr th:only-of-type {\n",
       "        vertical-align: middle;\n",
       "    }\n",
       "\n",
       "    .dataframe tbody tr th {\n",
       "        vertical-align: top;\n",
       "    }\n",
       "\n",
       "    .dataframe thead th {\n",
       "        text-align: right;\n",
       "    }\n",
       "</style>\n",
       "<table border=\"1\" class=\"dataframe\">\n",
       "  <thead>\n",
       "    <tr style=\"text-align: right;\">\n",
       "      <th></th>\n",
       "      <th>Zhvi</th>\n",
       "      <th>Parking Tickets</th>\n",
       "      <th>Per capita income</th>\n",
       "    </tr>\n",
       "  </thead>\n",
       "  <tbody>\n",
       "    <tr>\n",
       "      <th>0</th>\n",
       "      <td>411900</td>\n",
       "      <td>141</td>\n",
       "      <td>100377</td>\n",
       "    </tr>\n",
       "    <tr>\n",
       "      <th>1</th>\n",
       "      <td>351700</td>\n",
       "      <td>752</td>\n",
       "      <td>69889</td>\n",
       "    </tr>\n",
       "    <tr>\n",
       "      <th>2</th>\n",
       "      <td>433200</td>\n",
       "      <td>1986</td>\n",
       "      <td>68324</td>\n",
       "    </tr>\n",
       "    <tr>\n",
       "      <th>3</th>\n",
       "      <td>238900</td>\n",
       "      <td>290</td>\n",
       "      <td>59849</td>\n",
       "    </tr>\n",
       "    <tr>\n",
       "      <th>4</th>\n",
       "      <td>388600</td>\n",
       "      <td>457</td>\n",
       "      <td>58232</td>\n",
       "    </tr>\n",
       "  </tbody>\n",
       "</table>\n",
       "</div>"
      ],
      "text/plain": [
       "     Zhvi  Parking Tickets  Per capita income\n",
       "0  411900              141             100377\n",
       "1  351700              752              69889\n",
       "2  433200             1986              68324\n",
       "3  238900              290              59849\n",
       "4  388600              457              58232"
      ]
     },
     "execution_count": 6,
     "metadata": {},
     "output_type": "execute_result"
    }
   ],
   "source": [
    "data = df.drop(\"Services\", axis=1)\n",
    "feature_names = data.columns\n",
    "data.head()"
   ]
  },
  {
   "cell_type": "code",
   "execution_count": 7,
   "metadata": {},
   "outputs": [
    {
     "data": {
      "text/html": [
       "<div>\n",
       "<style scoped>\n",
       "    .dataframe tbody tr th:only-of-type {\n",
       "        vertical-align: middle;\n",
       "    }\n",
       "\n",
       "    .dataframe tbody tr th {\n",
       "        vertical-align: top;\n",
       "    }\n",
       "\n",
       "    .dataframe thead th {\n",
       "        text-align: right;\n",
       "    }\n",
       "</style>\n",
       "<table border=\"1\" class=\"dataframe\">\n",
       "  <thead>\n",
       "    <tr style=\"text-align: right;\">\n",
       "      <th></th>\n",
       "      <th>Zhvi</th>\n",
       "      <th>Parking Tickets</th>\n",
       "      <th>Per capita income</th>\n",
       "      <th>Services</th>\n",
       "    </tr>\n",
       "  </thead>\n",
       "  <tbody>\n",
       "    <tr>\n",
       "      <th>Zhvi</th>\n",
       "      <td>1.000000</td>\n",
       "      <td>-0.247546</td>\n",
       "      <td>0.530287</td>\n",
       "      <td>0.460054</td>\n",
       "    </tr>\n",
       "    <tr>\n",
       "      <th>Parking Tickets</th>\n",
       "      <td>-0.247546</td>\n",
       "      <td>1.000000</td>\n",
       "      <td>-0.566882</td>\n",
       "      <td>0.504174</td>\n",
       "    </tr>\n",
       "    <tr>\n",
       "      <th>Per capita income</th>\n",
       "      <td>0.530287</td>\n",
       "      <td>-0.566882</td>\n",
       "      <td>1.000000</td>\n",
       "      <td>0.159553</td>\n",
       "    </tr>\n",
       "    <tr>\n",
       "      <th>Services</th>\n",
       "      <td>0.460054</td>\n",
       "      <td>0.504174</td>\n",
       "      <td>0.159553</td>\n",
       "      <td>1.000000</td>\n",
       "    </tr>\n",
       "  </tbody>\n",
       "</table>\n",
       "</div>"
      ],
      "text/plain": [
       "                       Zhvi  Parking Tickets  Per capita income  Services\n",
       "Zhvi               1.000000        -0.247546           0.530287  0.460054\n",
       "Parking Tickets   -0.247546         1.000000          -0.566882  0.504174\n",
       "Per capita income  0.530287        -0.566882           1.000000  0.159553\n",
       "Services           0.460054         0.504174           0.159553  1.000000"
      ]
     },
     "execution_count": 7,
     "metadata": {},
     "output_type": "execute_result"
    }
   ],
   "source": [
    "x = df.corr()\n",
    "x"
   ]
  },
  {
   "cell_type": "code",
   "execution_count": 8,
   "metadata": {},
   "outputs": [
    {
     "data": {
      "text/plain": [
       "(<Figure size 1440x1440 with 1 Axes>,\n",
       " <matplotlib.axes._subplots.AxesSubplot at 0x2b43922d9b0>)"
      ]
     },
     "execution_count": 8,
     "metadata": {},
     "output_type": "execute_result"
    },
    {
     "data": {
      "text/plain": [
       "<matplotlib.axes._subplots.AxesSubplot at 0x2b43922d9b0>"
      ]
     },
     "execution_count": 8,
     "metadata": {},
     "output_type": "execute_result"
    },
    {
     "data": {
      "image/png": "[encoded data removed]",
      "text/plain": [
       "<Figure size 1440x1440 with 2 Axes>"
      ]
     },
     "metadata": {},
     "output_type": "display_data"
    }
   ],
   "source": [
    "plt.subplots(figsize=(20,20))\n",
    "sns.heatmap(x, cmap = 'RdYlGn', annot = True)\n",
    "plt.show()"
   ]
  },
  {
   "cell_type": "code",
   "execution_count": 9,
   "metadata": {},
   "outputs": [
    {
     "data": {
      "text/html": [
       "<div>\n",
       "<style scoped>\n",
       "    .dataframe tbody tr th:only-of-type {\n",
       "        vertical-align: middle;\n",
       "    }\n",
       "\n",
       "    .dataframe tbody tr th {\n",
       "        vertical-align: top;\n",
       "    }\n",
       "\n",
       "    .dataframe thead th {\n",
       "        text-align: right;\n",
       "    }\n",
       "</style>\n",
       "<table border=\"1\" class=\"dataframe\">\n",
       "  <thead>\n",
       "    <tr style=\"text-align: right;\">\n",
       "      <th></th>\n",
       "      <th>Zhvi</th>\n",
       "      <th>Parking Tickets</th>\n",
       "      <th>Per capita income</th>\n",
       "    </tr>\n",
       "  </thead>\n",
       "  <tbody>\n",
       "    <tr>\n",
       "      <th>0</th>\n",
       "      <td>411900</td>\n",
       "      <td>141</td>\n",
       "      <td>100377</td>\n",
       "    </tr>\n",
       "    <tr>\n",
       "      <th>1</th>\n",
       "      <td>351700</td>\n",
       "      <td>752</td>\n",
       "      <td>69889</td>\n",
       "    </tr>\n",
       "    <tr>\n",
       "      <th>2</th>\n",
       "      <td>433200</td>\n",
       "      <td>1986</td>\n",
       "      <td>68324</td>\n",
       "    </tr>\n",
       "    <tr>\n",
       "      <th>3</th>\n",
       "      <td>238900</td>\n",
       "      <td>290</td>\n",
       "      <td>59849</td>\n",
       "    </tr>\n",
       "    <tr>\n",
       "      <th>4</th>\n",
       "      <td>388600</td>\n",
       "      <td>457</td>\n",
       "      <td>58232</td>\n",
       "    </tr>\n",
       "  </tbody>\n",
       "</table>\n",
       "</div>"
      ],
      "text/plain": [
       "     Zhvi  Parking Tickets  Per capita income\n",
       "0  411900              141             100377\n",
       "1  351700              752              69889\n",
       "2  433200             1986              68324\n",
       "3  238900              290              59849\n",
       "4  388600              457              58232"
      ]
     },
     "execution_count": 9,
     "metadata": {},
     "output_type": "execute_result"
    },
    {
     "data": {
      "text/plain": [
       "0    652\n",
       "1    686\n",
       "2    639\n",
       "3    135\n",
       "4    248\n",
       "Name: Services, dtype: int64"
      ]
     },
     "execution_count": 9,
     "metadata": {},
     "output_type": "execute_result"
    }
   ],
   "source": [
    "x = df.drop('Services', axis = 1)\n",
    "y = df['Services']\n",
    "x.head()\n",
    "y.head()"
   ]
  },
  {
   "cell_type": "code",
   "execution_count": 10,
   "metadata": {},
   "outputs": [
    {
     "data": {
      "text/plain": [
       "(32, 3)"
      ]
     },
     "execution_count": 10,
     "metadata": {},
     "output_type": "execute_result"
    },
    {
     "data": {
      "text/plain": [
       "(11, 3)"
      ]
     },
     "execution_count": 10,
     "metadata": {},
     "output_type": "execute_result"
    },
    {
     "data": {
      "text/plain": [
       "(32,)"
      ]
     },
     "execution_count": 10,
     "metadata": {},
     "output_type": "execute_result"
    },
    {
     "data": {
      "text/plain": [
       "(11,)"
      ]
     },
     "execution_count": 10,
     "metadata": {},
     "output_type": "execute_result"
    }
   ],
   "source": [
    "train_x, test_x, train_y, test_y = train_test_split(x,y,test_size=0.25, random_state=1)\n",
    "train_x.shape\n",
    "test_x.shape\n",
    "train_y.shape\n",
    "test_y.shape\n"
   ]
  },
  {
   "cell_type": "code",
   "execution_count": 11,
   "metadata": {},
   "outputs": [
    {
     "data": {
      "text/plain": [
       "LinearRegression(copy_X=True, fit_intercept=True, n_jobs=1, normalize=False)"
      ]
     },
     "execution_count": 11,
     "metadata": {},
     "output_type": "execute_result"
    }
   ],
   "source": [
    "from sklearn.linear_model import LinearRegression\n",
    "lm = LinearRegression()\n",
    "lm"
   ]
  },
  {
   "cell_type": "code",
   "execution_count": 12,
   "metadata": {},
   "outputs": [
    {
     "data": {
      "text/plain": [
       "LinearRegression(copy_X=True, fit_intercept=True, n_jobs=1, normalize=False)"
      ]
     },
     "execution_count": 12,
     "metadata": {},
     "output_type": "execute_result"
    }
   ],
   "source": [
    "lm.fit(train_x, train_y)"
   ]
  },
  {
   "cell_type": "code",
   "execution_count": 13,
   "metadata": {},
   "outputs": [],
   "source": [
    "predict_test = lm.predict(test_x)"
   ]
  },
  {
   "cell_type": "code",
   "execution_count": 14,
   "metadata": {},
   "outputs": [
    {
     "name": "stdout",
     "output_type": "stream",
     "text": [
      "[0.00100119 0.12677779 0.00603009]\n"
     ]
    },
    {
     "data": {
      "text/html": [
       "<div>\n",
       "<style scoped>\n",
       "    .dataframe tbody tr th:only-of-type {\n",
       "        vertical-align: middle;\n",
       "    }\n",
       "\n",
       "    .dataframe tbody tr th {\n",
       "        vertical-align: top;\n",
       "    }\n",
       "\n",
       "    .dataframe thead th {\n",
       "        text-align: right;\n",
       "    }\n",
       "</style>\n",
       "<table border=\"1\" class=\"dataframe\">\n",
       "  <thead>\n",
       "    <tr style=\"text-align: right;\">\n",
       "      <th></th>\n",
       "      <th>features</th>\n",
       "      <th>coeff</th>\n",
       "    </tr>\n",
       "  </thead>\n",
       "  <tbody>\n",
       "    <tr>\n",
       "      <th>0</th>\n",
       "      <td>Zhvi</td>\n",
       "      <td>0.001001</td>\n",
       "    </tr>\n",
       "    <tr>\n",
       "      <th>2</th>\n",
       "      <td>Per capita income</td>\n",
       "      <td>0.006030</td>\n",
       "    </tr>\n",
       "    <tr>\n",
       "      <th>1</th>\n",
       "      <td>Parking Tickets</td>\n",
       "      <td>0.126778</td>\n",
       "    </tr>\n",
       "  </tbody>\n",
       "</table>\n",
       "</div>"
      ],
      "text/plain": [
       "            features     coeff\n",
       "0               Zhvi  0.001001\n",
       "2  Per capita income  0.006030\n",
       "1    Parking Tickets  0.126778"
      ]
     },
     "execution_count": 14,
     "metadata": {},
     "output_type": "execute_result"
    }
   ],
   "source": [
    "print(lm.coef_)\n",
    "df_m = pd.DataFrame({'features':x.columns,'coeff':lm.coef_})\n",
    "df_m = df_m.sort_values(by=['coeff'])\n",
    "df_m"
   ]
  },
  {
   "cell_type": "code",
   "execution_count": 15,
   "metadata": {},
   "outputs": [
    {
     "data": {
      "text/plain": [
       "<matplotlib.axes._subplots.AxesSubplot at 0x2b439e419e8>"
      ]
     },
     "execution_count": 15,
     "metadata": {},
     "output_type": "execute_result"
    },
    {
     "data": {
      "image/png": "[encoded data removed]",
      "text/plain": [
       "<Figure size 1080x720 with 1 Axes>"
      ]
     },
     "metadata": {},
     "output_type": "display_data"
    }
   ],
   "source": [
    "#feature importance\n",
    "df_m.plot(x= 'features', y='coeff', kind = 'bar', figsize =(15,10))\n",
    "plt.show()"
   ]
  },
  {
   "cell_type": "code",
   "execution_count": 16,
   "metadata": {},
   "outputs": [
    {
     "data": {
      "text/plain": [
       "'Rsquare value for test data ='"
      ]
     },
     "execution_count": 16,
     "metadata": {},
     "output_type": "execute_result"
    },
    {
     "data": {
      "text/plain": [
       "80.0"
      ]
     },
     "execution_count": 16,
     "metadata": {},
     "output_type": "execute_result"
    },
    {
     "data": {
      "text/plain": [
       "'Rsquare value for train data ='"
      ]
     },
     "execution_count": 16,
     "metadata": {},
     "output_type": "execute_result"
    },
    {
     "data": {
      "text/plain": [
       "63.0"
      ]
     },
     "execution_count": 16,
     "metadata": {},
     "output_type": "execute_result"
    }
   ],
   "source": [
    "(\"Rsquare value for test data =\")\n",
    "np.round(lm.score(test_x, test_y) * 100,0)\n",
    "(\"Rsquare value for train data =\")\n",
    "np.round(lm.score(train_x, train_y) * 100,0)"
   ]
  },
  {
   "cell_type": "code",
   "execution_count": 17,
   "metadata": {},
   "outputs": [
    {
     "name": "stdout",
     "output_type": "stream",
     "text": [
      "Mean Squares Error for test data = \n"
     ]
    },
    {
     "data": {
      "text/plain": [
       "12265.0"
      ]
     },
     "execution_count": 17,
     "metadata": {},
     "output_type": "execute_result"
    }
   ],
   "source": [
    "import numpy as np\n",
    "from sklearn import metrics\n",
    "print (\"Mean Squares Error for test data = \")\n",
    "np.round(metrics.mean_squared_error(test_y, predict_test),0)"
   ]
  },
  {
   "cell_type": "code",
   "execution_count": 18,
   "metadata": {},
   "outputs": [
    {
     "name": "stdout",
     "output_type": "stream",
     "text": [
      "Mean Absolute Error for test data = \n"
     ]
    },
    {
     "data": {
      "text/plain": [
       "95.0"
      ]
     },
     "execution_count": 18,
     "metadata": {},
     "output_type": "execute_result"
    }
   ],
   "source": [
    "from sklearn.metrics import mean_absolute_error\n",
    "print (\"Mean Absolute Error for test data = \")\n",
    "np.round(mean_absolute_error(test_y, predict_test),0)"
   ]
  },
  {
   "cell_type": "code",
   "execution_count": 19,
   "metadata": {},
   "outputs": [
    {
     "data": {
      "text/html": [
       "<div>\n",
       "<style scoped>\n",
       "    .dataframe tbody tr th:only-of-type {\n",
       "        vertical-align: middle;\n",
       "    }\n",
       "\n",
       "    .dataframe tbody tr th {\n",
       "        vertical-align: top;\n",
       "    }\n",
       "\n",
       "    .dataframe thead th {\n",
       "        text-align: right;\n",
       "    }\n",
       "</style>\n",
       "<table border=\"1\" class=\"dataframe\">\n",
       "  <thead>\n",
       "    <tr style=\"text-align: right;\">\n",
       "      <th></th>\n",
       "      <th>Zhvi</th>\n",
       "      <th>Parking Tickets</th>\n",
       "      <th>Per capita income</th>\n",
       "      <th>Services</th>\n",
       "      <th>Predicted</th>\n",
       "      <th>Prediction_Error</th>\n",
       "    </tr>\n",
       "  </thead>\n",
       "  <tbody>\n",
       "    <tr>\n",
       "      <th>3</th>\n",
       "      <td>238900</td>\n",
       "      <td>290</td>\n",
       "      <td>59849</td>\n",
       "      <td>135</td>\n",
       "      <td>253.8</td>\n",
       "      <td>-118.8</td>\n",
       "    </tr>\n",
       "    <tr>\n",
       "      <th>2</th>\n",
       "      <td>433200</td>\n",
       "      <td>1986</td>\n",
       "      <td>68324</td>\n",
       "      <td>639</td>\n",
       "      <td>714.4</td>\n",
       "      <td>-75.4</td>\n",
       "    </tr>\n",
       "    <tr>\n",
       "      <th>24</th>\n",
       "      <td>233700</td>\n",
       "      <td>4996</td>\n",
       "      <td>40165</td>\n",
       "      <td>944</td>\n",
       "      <td>726.5</td>\n",
       "      <td>217.5</td>\n",
       "    </tr>\n",
       "    <tr>\n",
       "      <th>40</th>\n",
       "      <td>133200</td>\n",
       "      <td>3133</td>\n",
       "      <td>23228</td>\n",
       "      <td>173</td>\n",
       "      <td>287.6</td>\n",
       "      <td>-114.6</td>\n",
       "    </tr>\n",
       "    <tr>\n",
       "      <th>17</th>\n",
       "      <td>277000</td>\n",
       "      <td>2024</td>\n",
       "      <td>45064</td>\n",
       "      <td>406</td>\n",
       "      <td>422.6</td>\n",
       "      <td>-16.6</td>\n",
       "    </tr>\n",
       "    <tr>\n",
       "      <th>30</th>\n",
       "      <td>203300</td>\n",
       "      <td>1468</td>\n",
       "      <td>34293</td>\n",
       "      <td>238</td>\n",
       "      <td>213.4</td>\n",
       "      <td>24.6</td>\n",
       "    </tr>\n",
       "    <tr>\n",
       "      <th>22</th>\n",
       "      <td>112000</td>\n",
       "      <td>251</td>\n",
       "      <td>40792</td>\n",
       "      <td>46</td>\n",
       "      <td>6.9</td>\n",
       "      <td>39.1</td>\n",
       "    </tr>\n",
       "    <tr>\n",
       "      <th>36</th>\n",
       "      <td>278100</td>\n",
       "      <td>2188</td>\n",
       "      <td>30625</td>\n",
       "      <td>452</td>\n",
       "      <td>357.4</td>\n",
       "      <td>94.6</td>\n",
       "    </tr>\n",
       "    <tr>\n",
       "      <th>32</th>\n",
       "      <td>162100</td>\n",
       "      <td>3991</td>\n",
       "      <td>32622</td>\n",
       "      <td>406</td>\n",
       "      <td>481.9</td>\n",
       "      <td>-75.9</td>\n",
       "    </tr>\n",
       "    <tr>\n",
       "      <th>19</th>\n",
       "      <td>214500</td>\n",
       "      <td>1951</td>\n",
       "      <td>41438</td>\n",
       "      <td>172</td>\n",
       "      <td>328.9</td>\n",
       "      <td>-156.9</td>\n",
       "    </tr>\n",
       "    <tr>\n",
       "      <th>21</th>\n",
       "      <td>356600</td>\n",
       "      <td>1390</td>\n",
       "      <td>40972</td>\n",
       "      <td>511</td>\n",
       "      <td>397.3</td>\n",
       "      <td>113.7</td>\n",
       "    </tr>\n",
       "  </tbody>\n",
       "</table>\n",
       "</div>"
      ],
      "text/plain": [
       "      Zhvi  Parking Tickets  Per capita income  Services  Predicted  \\\n",
       "3   238900              290              59849       135      253.8   \n",
       "2   433200             1986              68324       639      714.4   \n",
       "24  233700             4996              40165       944      726.5   \n",
       "40  133200             3133              23228       173      287.6   \n",
       "17  277000             2024              45064       406      422.6   \n",
       "30  203300             1468              34293       238      213.4   \n",
       "22  112000              251              40792        46        6.9   \n",
       "36  278100             2188              30625       452      357.4   \n",
       "32  162100             3991              32622       406      481.9   \n",
       "19  214500             1951              41438       172      328.9   \n",
       "21  356600             1390              40972       511      397.3   \n",
       "\n",
       "    Prediction_Error  \n",
       "3             -118.8  \n",
       "2              -75.4  \n",
       "24             217.5  \n",
       "40            -114.6  \n",
       "17             -16.6  \n",
       "30              24.6  \n",
       "22              39.1  \n",
       "36              94.6  \n",
       "32             -75.9  \n",
       "19            -156.9  \n",
       "21             113.7  "
      ]
     },
     "execution_count": 19,
     "metadata": {},
     "output_type": "execute_result"
    }
   ],
   "source": [
    "#append predicted retail store openings into original data\n",
    "fdf = pd.concat([test_x, test_y],1)\n",
    "fdf['Predicted'] = np.round(predict_test,1)\n",
    "fdf['Prediction_Error'] = fdf['Services'] - fdf['Predicted']\n",
    "fdf"
   ]
  },
  {
   "cell_type": "code",
   "execution_count": null,
   "metadata": {},
   "outputs": [],
   "source": []
  }
 ],
 "metadata": {
  "kernelspec": {
   "display_name": "Python 3",
   "language": "python",
   "name": "python3"
  },
  "language_info": {
   "codemirror_mode": {
    "name": "ipython",
    "version": 3
   },
   "file_extension": ".py",
   "mimetype": "text/x-python",
   "name": "python",
   "nbconvert_exporter": "python",
   "pygments_lexer": "ipython3",
   "version": "3.6.5"
  }
 },
 "nbformat": 4,
 "nbformat_minor": 2
}
